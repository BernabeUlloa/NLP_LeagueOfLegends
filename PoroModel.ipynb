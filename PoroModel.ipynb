{
 "cells": [
  {
   "cell_type": "code",
   "execution_count": 1,
   "metadata": {},
   "outputs": [],
   "source": [
    "import numpy as np\n",
    "import pandas as pd\n",
    "from sklearn.model_selection import train_test_split\n",
    "from tensorflow.keras.preprocessing.text import Tokenizer\n",
    "from tensorflow.keras.preprocessing.sequence import pad_sequences\n",
    "import tensorflow as tf\n",
    "import poros"
   ]
  },
  {
   "cell_type": "code",
   "execution_count": 2,
   "metadata": {},
   "outputs": [
    {
     "data": {
      "text/html": [
       "<div>\n",
       "<style scoped>\n",
       "    .dataframe tbody tr th:only-of-type {\n",
       "        vertical-align: middle;\n",
       "    }\n",
       "\n",
       "    .dataframe tbody tr th {\n",
       "        vertical-align: top;\n",
       "    }\n",
       "\n",
       "    .dataframe thead th {\n",
       "        text-align: right;\n",
       "    }\n",
       "</style>\n",
       "<table border=\"1\" class=\"dataframe\">\n",
       "  <thead>\n",
       "    <tr style=\"text-align: right;\">\n",
       "      <th></th>\n",
       "      <th>game_id</th>\n",
       "      <th>campeon</th>\n",
       "      <th>frases</th>\n",
       "      <th>resultado</th>\n",
       "    </tr>\n",
       "  </thead>\n",
       "  <tbody>\n",
       "    <tr>\n",
       "      <th>0</th>\n",
       "      <td>1297814575#participant1</td>\n",
       "      <td>Poppy</td>\n",
       "      <td>Buen uso del barón, Poco daño con Poppy, Torre...</td>\n",
       "      <td>1</td>\n",
       "    </tr>\n",
       "    <tr>\n",
       "      <th>1</th>\n",
       "      <td>1297814575#participant2</td>\n",
       "      <td>Diana</td>\n",
       "      <td>Jungla agresivo, Buen uso del barón, Mucho dañ...</td>\n",
       "      <td>1</td>\n",
       "    </tr>\n",
       "    <tr>\n",
       "      <th>2</th>\n",
       "      <td>1297814575#participant3</td>\n",
       "      <td>Zoe</td>\n",
       "      <td>Buen uso del barón, Destructor de torretas, Bu...</td>\n",
       "      <td>1</td>\n",
       "    </tr>\n",
       "    <tr>\n",
       "      <th>3</th>\n",
       "      <td>1297814575#participant4</td>\n",
       "      <td>Kai'Sa</td>\n",
       "      <td>Buen uso del barón, Destructor de torretas, Bu...</td>\n",
       "      <td>1</td>\n",
       "    </tr>\n",
       "    <tr>\n",
       "      <th>4</th>\n",
       "      <td>1297814575#participant5</td>\n",
       "      <td>Pyke</td>\n",
       "      <td>Buen uso del barón, Ingankeable, KDA alto, Rot...</td>\n",
       "      <td>1</td>\n",
       "    </tr>\n",
       "    <tr>\n",
       "      <th>...</th>\n",
       "      <td>...</td>\n",
       "      <td>...</td>\n",
       "      <td>...</td>\n",
       "      <td>...</td>\n",
       "    </tr>\n",
       "    <tr>\n",
       "      <th>1995</th>\n",
       "      <td>1298362233#participant6</td>\n",
       "      <td>Volibear</td>\n",
       "      <td>Buen uso del barón, Destructor de torretas, In...</td>\n",
       "      <td>1</td>\n",
       "    </tr>\n",
       "    <tr>\n",
       "      <th>1996</th>\n",
       "      <td>1298362233#participant7</td>\n",
       "      <td>Riven</td>\n",
       "      <td>Jungla agresivo, Buen uso del barón, KDA alto,...</td>\n",
       "      <td>1</td>\n",
       "    </tr>\n",
       "    <tr>\n",
       "      <th>1997</th>\n",
       "      <td>1298362233#participant8</td>\n",
       "      <td>Cassiopeia</td>\n",
       "      <td>Jugador agresivo, Buen uso del barón, Ingankea...</td>\n",
       "      <td>1</td>\n",
       "    </tr>\n",
       "    <tr>\n",
       "      <th>1998</th>\n",
       "      <td>1298362233#participant9</td>\n",
       "      <td>Sivir</td>\n",
       "      <td>Buen uso del barón, Ingankeable, Buen farmeado...</td>\n",
       "      <td>1</td>\n",
       "    </tr>\n",
       "    <tr>\n",
       "      <th>1999</th>\n",
       "      <td>1298362233#participant10</td>\n",
       "      <td>Thresh</td>\n",
       "      <td>Buen uso del barón, Ingankeable, KDA alto, Alt...</td>\n",
       "      <td>1</td>\n",
       "    </tr>\n",
       "  </tbody>\n",
       "</table>\n",
       "<p>2000 rows × 4 columns</p>\n",
       "</div>"
      ],
      "text/plain": [
       "                       game_id     campeon  \\\n",
       "0      1297814575#participant1       Poppy   \n",
       "1      1297814575#participant2       Diana   \n",
       "2      1297814575#participant3         Zoe   \n",
       "3      1297814575#participant4      Kai'Sa   \n",
       "4      1297814575#participant5        Pyke   \n",
       "...                        ...         ...   \n",
       "1995   1298362233#participant6    Volibear   \n",
       "1996   1298362233#participant7       Riven   \n",
       "1997   1298362233#participant8  Cassiopeia   \n",
       "1998   1298362233#participant9       Sivir   \n",
       "1999  1298362233#participant10      Thresh   \n",
       "\n",
       "                                                 frases  resultado  \n",
       "0     Buen uso del barón, Poco daño con Poppy, Torre...          1  \n",
       "1     Jungla agresivo, Buen uso del barón, Mucho dañ...          1  \n",
       "2     Buen uso del barón, Destructor de torretas, Bu...          1  \n",
       "3     Buen uso del barón, Destructor de torretas, Bu...          1  \n",
       "4     Buen uso del barón, Ingankeable, KDA alto, Rot...          1  \n",
       "...                                                 ...        ...  \n",
       "1995  Buen uso del barón, Destructor de torretas, In...          1  \n",
       "1996  Jungla agresivo, Buen uso del barón, KDA alto,...          1  \n",
       "1997  Jugador agresivo, Buen uso del barón, Ingankea...          1  \n",
       "1998  Buen uso del barón, Ingankeable, Buen farmeado...          1  \n",
       "1999  Buen uso del barón, Ingankeable, KDA alto, Alt...          1  \n",
       "\n",
       "[2000 rows x 4 columns]"
      ]
     },
     "execution_count": 2,
     "metadata": {},
     "output_type": "execute_result"
    }
   ],
   "source": [
    "data = pd.read_csv('200_games.csv')\n",
    "data"
   ]
  },
  {
   "cell_type": "code",
   "execution_count": 3,
   "metadata": {},
   "outputs": [
    {
     "name": "stdout",
     "output_type": "stream",
     "text": [
      "<class 'pandas.core.frame.DataFrame'>\n",
      "RangeIndex: 2000 entries, 0 to 1999\n",
      "Data columns (total 4 columns):\n",
      " #   Column     Non-Null Count  Dtype \n",
      "---  ------     --------------  ----- \n",
      " 0   game_id    2000 non-null   object\n",
      " 1   campeon    2000 non-null   object\n",
      " 2   frases     1996 non-null   object\n",
      " 3   resultado  2000 non-null   int64 \n",
      "dtypes: int64(1), object(3)\n",
      "memory usage: 62.6+ KB\n"
     ]
    }
   ],
   "source": [
    "data.info()"
   ]
  },
  {
   "cell_type": "code",
   "execution_count": 3,
   "metadata": {},
   "outputs": [],
   "source": [
    "def preprocesamiento(df):\n",
    "    df = df.copy()\n",
    "    \n",
    "    #Limpiar valores nulos de 'frases'\n",
    "    missing_frases = df[df['frases'].isna()].index\n",
    "    df = df.drop(missing_frases, axis=0).reset_index(drop=True)\n",
    "    \n",
    "    #Reemplazar nombres de campeones por palabra unica\n",
    "    df = poros.clean(df)\n",
    "    \n",
    "    #Columnas de interes\n",
    "    y = df['resultado']\n",
    "    x = df['frases']\n",
    "    \n",
    "    #Separacion para entrenamiento\n",
    "    X_train, X_test, y_train, y_test = train_test_split(x, y, train_size=0.8, shuffle=True, random_state=1)\n",
    "    \n",
    "    # Learn the vocabulary\n",
    "    tokenizer = Tokenizer()\n",
    "    tokenizer.fit_on_texts(X_train)\n",
    "    \n",
    "    # Find the size of the vocabulary\n",
    "    vocab_length = len(tokenizer.word_index) + 1\n",
    "    print(\"Vocab length:\", vocab_length)\n",
    "    \n",
    "    # Convert review texts into sequences of integers\n",
    "    X_train = tokenizer.texts_to_sequences(X_train)\n",
    "    X_test = tokenizer.texts_to_sequences(X_test)\n",
    "    \n",
    "    \n",
    "    # Find the maximum sequence length\n",
    "    max_seq_length = np.max(list(map(lambda x: len(x), X_train)))\n",
    "    print(\"Maximum sequence length:\", max_seq_length)\n",
    "    \n",
    "    \n",
    "    # Pad the sequences to by uniform length\n",
    "    X_train = pad_sequences(X_train, maxlen=max_seq_length, padding='post')\n",
    "    X_test = pad_sequences(X_test, maxlen=max_seq_length, padding='post')\n",
    "    \n",
    "    return X_train, X_test, y_train, y_test, vocab_length, max_seq_length, tokenizer"
   ]
  },
  {
   "cell_type": "code",
   "execution_count": 4,
   "metadata": {},
   "outputs": [
    {
     "name": "stderr",
     "output_type": "stream",
     "text": [
      "C:\\Course Material Python\\scrappingLOL\\poros.py:82: FutureWarning: The default value of regex will change from True to False in a future version.\n",
      "  df['frases'] = df['frases'].str.replace(nombre_campeon, palabra_comun)\n"
     ]
    },
    {
     "name": "stdout",
     "output_type": "stream",
     "text": [
      "Vocab length: 85\n",
      "Maximum sequence length: 39\n"
     ]
    }
   ],
   "source": [
    "X_train, X_test, y_train, y_test, vocab_length, max_seq_length, tokenizer = preprocesamiento(data)"
   ]
  },
  {
   "cell_type": "code",
   "execution_count": 8,
   "metadata": {},
   "outputs": [
    {
     "data": {
      "text/plain": [
       "(1596, 39)"
      ]
     },
     "execution_count": 8,
     "metadata": {},
     "output_type": "execute_result"
    }
   ],
   "source": [
    "X_train.shape"
   ]
  },
  {
   "cell_type": "markdown",
   "metadata": {},
   "source": [
    "## ENTRENAMIENTO"
   ]
  },
  {
   "cell_type": "code",
   "execution_count": 9,
   "metadata": {},
   "outputs": [
    {
     "name": "stdout",
     "output_type": "stream",
     "text": [
      "Epoch 1/100\n",
      "40/40 [==============================] - 5s 75ms/step - loss: 0.6953 - accuracy: 0.4984 - val_loss: 0.6916 - val_accuracy: 0.5281\n",
      "Epoch 2/100\n",
      "40/40 [==============================] - 3s 68ms/step - loss: 0.6940 - accuracy: 0.4828 - val_loss: 0.6927 - val_accuracy: 0.5281\n",
      "Epoch 3/100\n",
      "40/40 [==============================] - 3s 68ms/step - loss: 0.6920 - accuracy: 0.5149 - val_loss: 0.6891 - val_accuracy: 0.5094\n",
      "Epoch 4/100\n",
      "40/40 [==============================] - 3s 69ms/step - loss: 0.5262 - accuracy: 0.7492 - val_loss: 0.4671 - val_accuracy: 0.7750\n",
      "Epoch 5/100\n",
      "40/40 [==============================] - 3s 67ms/step - loss: 0.3788 - accuracy: 0.8699 - val_loss: 0.3808 - val_accuracy: 0.8469\n",
      "Epoch 6/100\n",
      "40/40 [==============================] - 3s 74ms/step - loss: 0.3254 - accuracy: 0.8824 - val_loss: 0.3766 - val_accuracy: 0.8625\n",
      "Epoch 7/100\n",
      "40/40 [==============================] - 3s 72ms/step - loss: 0.3214 - accuracy: 0.8848 - val_loss: 0.3933 - val_accuracy: 0.8250\n",
      "Epoch 8/100\n",
      "40/40 [==============================] - 3s 72ms/step - loss: 0.3009 - accuracy: 0.8958 - val_loss: 0.3630 - val_accuracy: 0.8594\n",
      "Epoch 9/100\n",
      "40/40 [==============================] - 3s 79ms/step - loss: 0.3111 - accuracy: 0.8895 - val_loss: 0.3658 - val_accuracy: 0.8656\n",
      "Epoch 10/100\n",
      "40/40 [==============================] - 3s 79ms/step - loss: 0.2933 - accuracy: 0.8942 - val_loss: 0.3183 - val_accuracy: 0.8781\n",
      "Epoch 11/100\n",
      "40/40 [==============================] - 3s 72ms/step - loss: 0.2752 - accuracy: 0.9067 - val_loss: 0.3102 - val_accuracy: 0.8719\n",
      "Epoch 12/100\n",
      "40/40 [==============================] - 3s 74ms/step - loss: 0.2726 - accuracy: 0.9067 - val_loss: 0.3419 - val_accuracy: 0.8531\n",
      "Epoch 13/100\n",
      "40/40 [==============================] - 3s 71ms/step - loss: 0.2808 - accuracy: 0.9036 - val_loss: 0.3209 - val_accuracy: 0.8562\n",
      "Epoch 14/100\n",
      "40/40 [==============================] - 3s 69ms/step - loss: 0.2698 - accuracy: 0.9083 - val_loss: 0.3306 - val_accuracy: 0.8625\n"
     ]
    }
   ],
   "source": [
    "inputs = tf.keras.Input(shape=(X_train.shape[1],))\n",
    "\n",
    "x = tf.keras.layers.Embedding(\n",
    "    input_dim=vocab_length,\n",
    "    output_dim=128,\n",
    "    input_length=max_seq_length\n",
    ")(inputs)\n",
    "\n",
    "#Probar accurancy c/s:\n",
    "x = tf.keras.layers.GRU(256, return_sequences = False, activation = \"tanh\")(x)\n",
    "\n",
    "\n",
    "x = tf.keras.layers.Flatten()(x)\n",
    "\n",
    "outputs = tf.keras.layers.Dense(1, activation='sigmoid')(x)\n",
    "\n",
    "model = tf.keras.Model(inputs=inputs, outputs=outputs)\n",
    "\n",
    "model.compile(\n",
    "    optimizer='adam',\n",
    "    loss='binary_crossentropy',\n",
    "    metrics=['accuracy']\n",
    ")\n",
    "\n",
    "\n",
    "history = model.fit(\n",
    "    X_train,\n",
    "    y_train,\n",
    "    validation_split=0.2,\n",
    "    batch_size=32,\n",
    "    epochs=100,\n",
    "    callbacks=[\n",
    "        tf.keras.callbacks.EarlyStopping(\n",
    "            monitor='val_loss',\n",
    "            patience=3,\n",
    "            restore_best_weights=True\n",
    "        )\n",
    "    ]\n",
    ")"
   ]
  },
  {
   "cell_type": "markdown",
   "metadata": {},
   "source": [
    "## Resultados"
   ]
  },
  {
   "cell_type": "code",
   "execution_count": 10,
   "metadata": {},
   "outputs": [
    {
     "name": "stdout",
     "output_type": "stream",
     "text": [
      "13/13 [==============================] - 1s 16ms/step - loss: 0.3301 - accuracy: 0.8650\n"
     ]
    },
    {
     "data": {
      "text/plain": [
       "[0.33013126254081726, 0.8650000095367432]"
      ]
     },
     "execution_count": 10,
     "metadata": {},
     "output_type": "execute_result"
    }
   ],
   "source": [
    "model.evaluate(X_test, y_test)"
   ]
  },
  {
   "cell_type": "code",
   "execution_count": 20,
   "metadata": {},
   "outputs": [],
   "source": [
    "# Guardar el modelo\n",
    "model.save(\"8650_3301m2.h5\")"
   ]
  },
  {
   "cell_type": "markdown",
   "metadata": {},
   "source": [
    "## Testeo"
   ]
  },
  {
   "cell_type": "code",
   "execution_count": 11,
   "metadata": {},
   "outputs": [
    {
     "name": "stdout",
     "output_type": "stream",
     "text": [
      "13/13 [==============================] - 0s 11ms/step\n"
     ]
    }
   ],
   "source": [
    "prediction = model.predict(X_test)"
   ]
  },
  {
   "cell_type": "code",
   "execution_count": 12,
   "metadata": {},
   "outputs": [
    {
     "data": {
      "text/plain": [
       "array([0.13496445], dtype=float32)"
      ]
     },
     "execution_count": 12,
     "metadata": {},
     "output_type": "execute_result"
    }
   ],
   "source": [
    "prediction[0]"
   ]
  },
  {
   "cell_type": "code",
   "execution_count": 13,
   "metadata": {},
   "outputs": [],
   "source": [
    "umbral = 0.5\n",
    "predicciones = (prediction > umbral).astype(int)\n",
    "etiquetas = np.squeeze(predicciones)"
   ]
  },
  {
   "cell_type": "code",
   "execution_count": 14,
   "metadata": {},
   "outputs": [
    {
     "name": "stdout",
     "output_type": "stream",
     "text": [
      "Primer dato de entrada: [ 2 10 11 12 31 16 17 21 18  1  4 15 19 20 32  3 27 30  1 28  3 14  0  0\n",
      "  0  0  0  0  0  0  0  0  0  0  0  0  0  0  0]\n",
      "Texto original: buen uso del barón mucho daño con campeon destructor de torretas ingankeable kda alto sobreviviente jugador seguro dejó de farmear jugador pasivo\n",
      "Predicción para el primer dato: 1\n"
     ]
    }
   ],
   "source": [
    "#partida\n",
    "p = 8\n",
    "# Obtener el primer dato de entrada y su correspondiente predicción\n",
    "primer_dato_entrada = X_test[p]\n",
    "prediccion_primero = etiquetas[p]\n",
    "\n",
    "# Imprimir el primer dato de entrada y su predicción\n",
    "print(\"Primer dato de entrada:\", primer_dato_entrada)\n",
    "# Reconstruir el texto original\n",
    "texto_original = tokenizer.sequences_to_texts([primer_dato_entrada])[0]\n",
    "\n",
    "# Imprimir el texto original y su predicción\n",
    "print(\"Texto original:\", texto_original)\n",
    "print(\"Predicción para el primer dato:\", prediccion_primero)"
   ]
  },
  {
   "cell_type": "markdown",
   "metadata": {},
   "source": [
    "## Nuevo input"
   ]
  },
  {
   "cell_type": "code",
   "execution_count": 10,
   "metadata": {},
   "outputs": [],
   "source": [
    "nuevo_dato = 'Derrota a pesar de ventaja, Baja participación en muertes'"
   ]
  },
  {
   "cell_type": "code",
   "execution_count": 5,
   "metadata": {},
   "outputs": [],
   "source": [
    "# Cargar el modelo\n",
    "loaded_model = tf.keras.models.load_model(\"8650_3301m2.h5\")\n",
    "type(loaded_model)"
   ]
  },
  {
   "cell_type": "code",
   "execution_count": 7,
   "metadata": {},
   "outputs": [
    {
     "name": "stdout",
     "output_type": "stream",
     "text": [
      "Model: \"model\"\n",
      "_________________________________________________________________\n",
      " Layer (type)                Output Shape              Param #   \n",
      "=================================================================\n",
      " input_1 (InputLayer)        [(None, 39)]              0         \n",
      "                                                                 \n",
      " embedding (Embedding)       (None, 39, 128)           10880     \n",
      "                                                                 \n",
      " gru (GRU)                   (None, 256)               296448    \n",
      "                                                                 \n",
      " flatten (Flatten)           (None, 256)               0         \n",
      "                                                                 \n",
      " dense (Dense)               (None, 1)                 257       \n",
      "                                                                 \n",
      "=================================================================\n",
      "Total params: 307,585\n",
      "Trainable params: 307,585\n",
      "Non-trainable params: 0\n",
      "_________________________________________________________________\n"
     ]
    }
   ],
   "source": [
    "loaded_model.summary()"
   ]
  },
  {
   "cell_type": "code",
   "execution_count": null,
   "metadata": {},
   "outputs": [],
   "source": [
    "new_frase = \"Jungla agresivo, Buen farmeador, Torretas ignoradas, Mal duelista, Sin centinelas de control\""
   ]
  },
  {
   "cell_type": "code",
   "execution_count": 11,
   "metadata": {},
   "outputs": [
    {
     "name": "stdout",
     "output_type": "stream",
     "text": [
      "1/1 [==============================] - 0s 20ms/step\n"
     ]
    }
   ],
   "source": [
    "new_x,predict = poros.new(nuevo_dato ,loaded_model, max_seq_length,tokenizer)"
   ]
  },
  {
   "cell_type": "code",
   "execution_count": 47,
   "metadata": {},
   "outputs": [
    {
     "data": {
      "text/plain": [
       "array([0.9006556], dtype=float32)"
      ]
     },
     "execution_count": 47,
     "metadata": {},
     "output_type": "execute_result"
    }
   ],
   "source": [
    "predict[0]"
   ]
  },
  {
   "cell_type": "code",
   "execution_count": 12,
   "metadata": {},
   "outputs": [
    {
     "name": "stdout",
     "output_type": "stream",
     "text": [
      "Primer dato de entrada: [57 56 58  1 59 35  8  6  9  0  0  0  0  0  0  0  0  0  0  0  0  0  0  0\n",
      "  0  0  0  0  0  0  0  0  0  0  0  0  0  0  0]\n",
      "Texto original: derrota a pesar de ventaja baja participación en muertes\n",
      "Predicción para el primer dato: 0\n"
     ]
    }
   ],
   "source": [
    "umbral = 0.5\n",
    "predicciones_s = (predict > umbral).astype(int)\n",
    "etiquetas_s = np.squeeze(predicciones_s)\n",
    "\n",
    "# Obtener el primer dato de entrada y su correspondiente predicción\n",
    "primer_dato_entrada_s = new_x[0]\n",
    "prediccion_primero_s = etiquetas_s\n",
    "\n",
    "# Imprimir el primer dato de entrada y su predicción\n",
    "print(\"Primer dato de entrada:\", primer_dato_entrada_s)\n",
    "# Reconstruir el texto original\n",
    "texto_original_s = tokenizer.sequences_to_texts([primer_dato_entrada_s])[0]\n",
    "\n",
    "# Imprimir el texto original y su predicción\n",
    "print(\"Texto procesado:\", texto_original_s)\n",
    "print(\"Predicción para el primer dato:\", prediccion_primero_s)"
   ]
  }
 ],
 "metadata": {
  "kernelspec": {
   "display_name": "Python 3 (ipykernel)",
   "language": "python",
   "name": "python3"
  },
  "language_info": {
   "codemirror_mode": {
    "name": "ipython",
    "version": 3
   },
   "file_extension": ".py",
   "mimetype": "text/x-python",
   "name": "python",
   "nbconvert_exporter": "python",
   "pygments_lexer": "ipython3",
   "version": "3.7.16"
  }
 },
 "nbformat": 4,
 "nbformat_minor": 4
}
