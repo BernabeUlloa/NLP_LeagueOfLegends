{
 "cells": [
  {
   "cell_type": "code",
   "execution_count": 2,
   "id": "5e7702d4",
   "metadata": {},
   "outputs": [
    {
     "data": {
      "text/plain": [
       "['https://www.leagueofgraphs.com/es/match/las/1297594746',\n",
       " 'https://www.leagueofgraphs.com/es/match/las/1297584774',\n",
       " 'https://www.leagueofgraphs.com/es/match/las/1297593912']"
      ]
     },
     "execution_count": 2,
     "metadata": {},
     "output_type": "execute_result"
    }
   ],
   "source": [
    "#SPEED VERSION\n",
    "# Leer las direcciones URL desde un archivo de texto\n",
    "with open('3.txt', 'r') as file:\n",
    "    urls = file.readlines()\n",
    "\n",
    "# Eliminar los saltos de línea y espacios en blanco de cada URL\n",
    "urls = [url.strip() for url in urls]\n",
    "urls"
   ]
  },
  {
   "cell_type": "code",
   "execution_count": 3,
   "id": "10d78f89",
   "metadata": {},
   "outputs": [],
   "source": [
    "import pandas as pd\n",
    "import poros\n",
    "web_d_rute = 'C:\\\\d_edge\\\\msedgedriver.exe'\n",
    "df_acumulativo = pd.DataFrame(poros.scrapping(urls, web_d_rute)) \n",
    "df_acumulativo"
   ]
  }
 ],
 "metadata": {
  "kernelspec": {
   "display_name": "Python 3 (ipykernel)",
   "language": "python",
   "name": "python3"
  },
  "language_info": {
   "codemirror_mode": {
    "name": "ipython",
    "version": 3
   },
   "file_extension": ".py",
   "mimetype": "text/x-python",
   "name": "python",
   "nbconvert_exporter": "python",
   "pygments_lexer": "ipython3",
   "version": "3.7.16"
  }
 },
 "nbformat": 4,
 "nbformat_minor": 5
}
